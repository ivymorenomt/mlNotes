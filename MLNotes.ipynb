{
 "cells": [
  {
   "cell_type": "markdown",
   "metadata": {},
   "source": [
    "## Probability and Statistics Refresher\n",
    "\n",
    "Statistics and probability play a crucial role in machine learning for several reasons:\n",
    "\n",
    "1. **Data Analysis**: Machine learning models are trained on data, and statistical methods are essential for analyzing and understanding the underlying patterns and characteristics of the data. Probability distributions can help model the uncertainty and variability in the data.\n",
    "\n",
    "2. **Model Selection and Evaluation**: Statistics provides techniques for selecting the most appropriate machine learning model for a given problem. It helps in comparing different models, assessing their performance, and making informed decisions about which model to deploy.\n",
    "\n",
    "3. **Feature Selection and Engineering**: Statistical methods help in identifying relevant features (variables) for a machine learning task and creating new features to improve model performance. Feature selection and engineering are critical steps in the data preprocessing phase.\n",
    "\n",
    "4. **Inference and Hypothesis Testing**: In some machine learning applications, especially in scientific research and medical diagnostics, statistical inference and hypothesis testing are used to make conclusions about populations and test the significance of relationships between variables.\n",
    "\n",
    "5. **Dealing with Uncertainty**: Probability theory is fundamental for dealing with uncertainty and making probabilistic predictions. Many machine learning algorithms, such as Bayesian networks and probabilistic graphical models, explicitly model uncertainty and make probabilistic predictions.\n",
    "\n",
    "6. **Overfitting and Regularization**: Statistics helps in understanding the concepts of overfitting and regularization. Techniques like cross-validation and regularization methods (e.g., L1 and L2 regularization) are employed to prevent overfitting and improve model generalization.\n",
    "\n",
    "7. **Probability Distributions**: Probability distributions, such as Gaussian (normal), Poisson, and Bernoulli distributions, are used to model various aspects of data, including noise, errors, and the likelihood of events. These distributions underpin many machine learning algorithms.\n",
    "\n",
    "8. **Bayes' Theorem**: Bayes' theorem is central to Bayesian machine learning, a field that combines prior knowledge with observed data to make inferences. Bayesian methods are particularly useful for small data sets and tasks where uncertainty needs to be explicitly accounted for.\n",
    "\n",
    "9. **Decision Making under Uncertainty**: In reinforcement learning, which is a subset of machine learning, probability and statistics help agents make optimal decisions in uncertain environments. Markov decision processes and probabilistic graphical models are used in reinforcement learning for modeling uncertainty.\n",
    "\n",
    "10. **Ethical and Fair AI**: Statistics and probability are also critical in addressing fairness, bias, and ethical concerns in machine learning. Statistical methods can help detect and mitigate bias in training data and model predictions.\n",
    "\n",
    "In summary, statistics and probability provide the theoretical foundation and practical tools for understanding, modeling, and making informed decisions in machine learning. They enable the development of robust, accurate, and interpretable machine learning models, making them indispensable in the field of artificial intelligence.\n",
    "\n",
    "When presenting a ML Model, we have to do the following:\n",
    " 1. Examine the data\n",
    " 2. What are we resolving?\n",
    " 3. Do we need to - Categorize?\n",
    " 4. What type of data do you have?\n",
    "\n",
    "        - Numerical - it is data that you can measure, ex: heights, load, performance\n",
    "                    - there are two types: Continous (Changes) and Discrete (Static)\n",
    "        - Categorical - it is data that can only be answerable by yes/no, race or you can also assign numbers (1,0)\n",
    "        - Ordinal - mix of both. Example is a movie rating - some has mathematical meanings in the data, and categorical as well.\n",
    "        \n",
    " 5. Depending on what you want to resolve, do you need to convert the data? or preprocess - we do this because there are different types of implementing data, like decision trees, it may only need categorical values.\n",
    " \n",
    "### Concepts\n",
    "\n",
    "**Mean** - sum up all the values and divide with number of samples\n",
    "         '$ \\mu $'\n",
    "\n",
    "**Median** - sort values and take the value in midpoint '$ median $'\n",
    "\n",
    "**Mode** - most common value in data set/not continuous '$ mode $'\n",
    "\n",
    "**Standard Deviation** \n",
    " - "
   ]
  },
  {
   "cell_type": "code",
   "execution_count": null,
   "metadata": {},
   "outputs": [],
   "source": []
  }
 ],
 "metadata": {
  "kernelspec": {
   "display_name": "Python 3",
   "language": "python",
   "name": "python3"
  },
  "language_info": {
   "codemirror_mode": {
    "name": "ipython",
    "version": 3
   },
   "file_extension": ".py",
   "mimetype": "text/x-python",
   "name": "python",
   "nbconvert_exporter": "python",
   "pygments_lexer": "ipython3",
   "version": "3.7.4"
  }
 },
 "nbformat": 4,
 "nbformat_minor": 2
}
