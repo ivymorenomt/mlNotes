{
 "cells": [
  {
   "cell_type": "code",
   "execution_count": 1,
   "id": "9fa8f30c-e241-45a9-9619-32e32c947d79",
   "metadata": {
    "tags": []
   },
   "outputs": [],
   "source": [
    "import numpy as np\n",
    "import matplotlib.pyplot as plt"
   ]
  },
  {
   "cell_type": "code",
   "execution_count": 6,
   "id": "20d4474b-cd81-4409-a8c8-7a9543534a52",
   "metadata": {
    "tags": []
   },
   "outputs": [
    {
     "data": {
      "image/png": "[encoded data removed]",
      "text/plain": [
       "<Figure size 640x480 with 1 Axes>"
      ]
     },
     "metadata": {},
     "output_type": "display_data"
    }
   ],
   "source": [
    "vals = np.random.normal(0, 0.5, 10000)\n",
    "plt.hist(vals, 50)\n",
    "plt.show()"
   ]
  },
  {
   "cell_type": "code",
   "execution_count": 7,
   "id": "4ae9a87b-6ac8-4d94-a0e8-4afc4ab33dff",
   "metadata": {
    "tags": []
   },
   "outputs": [
    {
     "data": {
      "text/plain": [
       "0.0030162550883192137"
      ]
     },
     "execution_count": 7,
     "metadata": {},
     "output_type": "execute_result"
    }
   ],
   "source": [
    "np.percentile(vals, 50) # it shows the 50% of the value, which is close to .0..3"
   ]
  },
  {
   "cell_type": "code",
   "execution_count": 8,
   "id": "4e91bc96-4524-4596-959b-2474c57258cf",
   "metadata": {
    "tags": []
   },
   "outputs": [
    {
     "data": {
      "text/plain": [
       "0.6275995858561423"
      ]
     },
     "execution_count": 8,
     "metadata": {},
     "output_type": "execute_result"
    }
   ],
   "source": [
    "np.percentile(vals, 90) # it shows the 90% of the value, which is .62 - close to 1.0"
   ]
  },
  {
   "cell_type": "code",
   "execution_count": 9,
   "id": "cd053f27-92b2-4d33-ad68-3349057c090d",
   "metadata": {
    "tags": []
   },
   "outputs": [
    {
     "data": {
      "text/plain": [
       "-0.41685405186830177"
      ]
     },
     "execution_count": 9,
     "metadata": {},
     "output_type": "execute_result"
    }
   ],
   "source": [
    "np.percentile(vals, 20)"
   ]
  },
  {
   "cell_type": "markdown",
   "id": "1ffc1da8-8eec-4167-891e-86885ef6c6f9",
   "metadata": {},
   "source": [
    "## Moments: Mean, Variance, Skew, Kurtosis"
   ]
  },
  {
   "cell_type": "markdown",
   "id": "cbea2a97-c3b2-481b-8ab0-7a835d88fc8a",
   "metadata": {},
   "source": [
    "#### Mean"
   ]
  },
  {
   "cell_type": "code",
   "execution_count": 10,
   "id": "78511a20-7561-4200-aac7-815ddd4d6c53",
   "metadata": {
    "tags": []
   },
   "outputs": [
    {
     "data": {
      "text/plain": [
       "0.0007659565744699244"
      ]
     },
     "execution_count": 10,
     "metadata": {},
     "output_type": "execute_result"
    }
   ],
   "source": [
    "np.mean(vals)"
   ]
  },
  {
   "cell_type": "markdown",
   "id": "779957e9-91d4-40e1-9807-93335ab30ce8",
   "metadata": {},
   "source": [
    "#### Variance"
   ]
  },
  {
   "cell_type": "code",
   "execution_count": 11,
   "id": "593eecaf-4f0f-4346-9609-d2468633ae03",
   "metadata": {
    "tags": []
   },
   "outputs": [
    {
     "data": {
      "text/plain": [
       "0.24701973736624633"
      ]
     },
     "execution_count": 11,
     "metadata": {},
     "output_type": "execute_result"
    }
   ],
   "source": [
    "np.var(vals)"
   ]
  },
  {
   "cell_type": "markdown",
   "id": "e8645fae-d9af-42b8-a308-60fb1124b329",
   "metadata": {},
   "source": [
    "##### Skew\n",
    "since our data is nicely centerd around 0, it should almost be 0"
   ]
  },
  {
   "cell_type": "code",
   "execution_count": 12,
   "id": "3e74ff86-b893-45a6-a7ba-9cb6da644b53",
   "metadata": {
    "tags": []
   },
   "outputs": [
    {
     "data": {
      "text/plain": [
       "0.024448853562763866"
      ]
     },
     "execution_count": 12,
     "metadata": {},
     "output_type": "execute_result"
    }
   ],
   "source": [
    "import scipy.stats as sp\n",
    "sp.skew(vals) # it is skewed to the right"
   ]
  },
  {
   "cell_type": "markdown",
   "id": "ee11dfa1-8072-45ce-ab59-3c3dd949a029",
   "metadata": {},
   "source": [
    "##### Kurtosis\n",
    "it describes the shape of the tail. For a normal distribution, this is 0"
   ]
  },
  {
   "cell_type": "code",
   "execution_count": 13,
   "id": "f6a24296-7d23-4aa1-b975-d6db52dad458",
   "metadata": {
    "tags": []
   },
   "outputs": [
    {
     "data": {
      "text/plain": [
       "0.026264705069392047"
      ]
     },
     "execution_count": 13,
     "metadata": {},
     "output_type": "execute_result"
    }
   ],
   "source": [
    "sp.kurtosis(vals)"
   ]
  },
  {
   "cell_type": "code",
   "execution_count": null,
   "id": "b98eeb2e-6940-4f50-9631-1d4b4f60dcef",
   "metadata": {},
   "outputs": [],
   "source": []
  }
 ],
 "metadata": {
  "kernelspec": {
   "display_name": "Python 3 (ipykernel)",
   "language": "python",
   "name": "python3"
  },
  "language_info": {
   "codemirror_mode": {
    "name": "ipython",
    "version": 3
   },
   "file_extension": ".py",
   "mimetype": "text/x-python",
   "name": "python",
   "nbconvert_exporter": "python",
   "pygments_lexer": "ipython3",
   "version": "3.11.4"
  }
 },
 "nbformat": 4,
 "nbformat_minor": 5
}
